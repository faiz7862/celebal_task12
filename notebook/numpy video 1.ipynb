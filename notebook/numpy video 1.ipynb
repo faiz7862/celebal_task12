{
 "cells": [
  {
   "cell_type": "code",
   "execution_count": 1,
   "id": "efb8c4ae",
   "metadata": {},
   "outputs": [],
   "source": [
    "import numpy as np"
   ]
  },
  {
   "cell_type": "code",
   "execution_count": 2,
   "id": "84403c21",
   "metadata": {},
   "outputs": [],
   "source": [
    "arr=np.array([[1,5,4,6,7,5],[1,5,4,6,7,5]])\n",
    "arr1=np.array([1,5,4,6,7,5])"
   ]
  },
  {
   "cell_type": "code",
   "execution_count": 3,
   "id": "96eaa28b",
   "metadata": {},
   "outputs": [
    {
     "data": {
      "text/plain": [
       "(2, 6)"
      ]
     },
     "execution_count": 3,
     "metadata": {},
     "output_type": "execute_result"
    }
   ],
   "source": [
    "arr.shape"
   ]
  },
  {
   "cell_type": "code",
   "execution_count": 4,
   "id": "59ff308f",
   "metadata": {},
   "outputs": [
    {
     "data": {
      "text/plain": [
       "dtype('int32')"
      ]
     },
     "execution_count": 4,
     "metadata": {},
     "output_type": "execute_result"
    }
   ],
   "source": [
    "arr.dtype"
   ]
  },
  {
   "cell_type": "code",
   "execution_count": 5,
   "id": "7715c814",
   "metadata": {},
   "outputs": [
    {
     "data": {
      "text/plain": [
       "2"
      ]
     },
     "execution_count": 5,
     "metadata": {},
     "output_type": "execute_result"
    }
   ],
   "source": [
    "arr.ndim"
   ]
  },
  {
   "cell_type": "code",
   "execution_count": 6,
   "id": "a4e127b6",
   "metadata": {},
   "outputs": [
    {
     "data": {
      "text/plain": [
       "12"
      ]
     },
     "execution_count": 6,
     "metadata": {},
     "output_type": "execute_result"
    }
   ],
   "source": [
    "arr.size"
   ]
  },
  {
   "cell_type": "code",
   "execution_count": 7,
   "id": "e72ee8d1",
   "metadata": {},
   "outputs": [
    {
     "data": {
      "text/plain": [
       "4"
      ]
     },
     "execution_count": 7,
     "metadata": {},
     "output_type": "execute_result"
    }
   ],
   "source": [
    "arr.itemsize"
   ]
  },
  {
   "cell_type": "code",
   "execution_count": 8,
   "id": "21beb971",
   "metadata": {},
   "outputs": [
    {
     "data": {
      "text/plain": [
       "array([], shape=(0, 6), dtype=int32)"
      ]
     },
     "execution_count": 8,
     "metadata": {},
     "output_type": "execute_result"
    }
   ],
   "source": [
    "arr[3:]"
   ]
  },
  {
   "cell_type": "code",
   "execution_count": 9,
   "id": "0ae63dea",
   "metadata": {},
   "outputs": [
    {
     "data": {
      "text/plain": [
       "array([[1, 5, 4, 6, 7, 5],\n",
       "       [1, 5, 4, 6, 7, 5]])"
      ]
     },
     "execution_count": 9,
     "metadata": {},
     "output_type": "execute_result"
    }
   ],
   "source": [
    "arr[:]"
   ]
  },
  {
   "cell_type": "code",
   "execution_count": 28,
   "id": "ad26152d",
   "metadata": {},
   "outputs": [
    {
     "data": {
      "text/plain": [
       "array([1, 5, 4, 6, 7, 5])"
      ]
     },
     "execution_count": 28,
     "metadata": {},
     "output_type": "execute_result"
    }
   ],
   "source": [
    "# Slicing of n-dimentional arrays\n",
    "arr[0,:]"
   ]
  },
  {
   "cell_type": "code",
   "execution_count": 10,
   "id": "090e0471",
   "metadata": {},
   "outputs": [
    {
     "data": {
      "text/plain": [
       "array([4, 6, 7, 5])"
      ]
     },
     "execution_count": 10,
     "metadata": {},
     "output_type": "execute_result"
    }
   ],
   "source": [
    "arr1[2:]"
   ]
  },
  {
   "cell_type": "code",
   "execution_count": 11,
   "id": "d926a54b",
   "metadata": {},
   "outputs": [
    {
     "name": "stdout",
     "output_type": "stream",
     "text": [
      "[ 2 10  8 12 14 10]\n"
     ]
    }
   ],
   "source": [
    "print(arr1*np.array([2,2,2,2,2,2]))"
   ]
  },
  {
   "cell_type": "code",
   "execution_count": 12,
   "id": "1522fef6",
   "metadata": {},
   "outputs": [
    {
     "name": "stdout",
     "output_type": "stream",
     "text": [
      "[ 2 10  8 12 14 10]\n"
     ]
    }
   ],
   "source": [
    "print(arr1*2)"
   ]
  },
  {
   "cell_type": "code",
   "execution_count": 13,
   "id": "9f89a481",
   "metadata": {},
   "outputs": [],
   "source": [
    "# working with list and arrays\n",
    "list1=[3,4,5,6]\n",
    "array1=np.array([3,4,5,6])\n"
   ]
  },
  {
   "cell_type": "code",
   "execution_count": 14,
   "id": "5d6c481a",
   "metadata": {},
   "outputs": [
    {
     "name": "stdout",
     "output_type": "stream",
     "text": [
      "List Elements: [3, 4, 5, 6, 3, 4, 5, 6]\n",
      "Array Elements: [ 6  8 10 12]\n"
     ]
    }
   ],
   "source": [
    "print(\"List Elements:\",list1*2)\n",
    "print(\"Array Elements:\",array1*2)"
   ]
  },
  {
   "cell_type": "code",
   "execution_count": 15,
   "id": "53c850a6",
   "metadata": {},
   "outputs": [
    {
     "name": "stdout",
     "output_type": "stream",
     "text": [
      "List: [3, 4, 5, 6, 2]\n",
      "Array: [5 6 7 8]\n"
     ]
    }
   ],
   "source": [
    "print(\"List:\",list1+[2])\n",
    "print(\"Array:\",array1+[2])"
   ]
  },
  {
   "cell_type": "code",
   "execution_count": 16,
   "id": "b1c44f61",
   "metadata": {},
   "outputs": [
    {
     "name": "stdout",
     "output_type": "stream",
     "text": [
      "[1.73205081 2.         2.23606798 2.44948974]\n",
      "[3 4 0 1]\n",
      "[1.09861229 1.38629436 1.60943791 1.79175947]\n"
     ]
    }
   ],
   "source": [
    "print(np.sqrt(array1))\n",
    "print(np.mod(array1,5))\n",
    "print(np.log(array1))"
   ]
  },
  {
   "cell_type": "code",
   "execution_count": 17,
   "id": "59dc7cc9",
   "metadata": {},
   "outputs": [
    {
     "name": "stdout",
     "output_type": "stream",
     "text": [
      "[1.73205081 2.         2.23606798 2.44948974]\n",
      "[3 4 0 1]\n",
      "[1.09861229 1.38629436 1.60943791 1.79175947]\n"
     ]
    }
   ],
   "source": [
    "print(np.sqrt(list1))\n",
    "print(np.mod(list1,5))\n",
    "print(np.log(list1))"
   ]
  },
  {
   "cell_type": "code",
   "execution_count": 18,
   "id": "b84802ac",
   "metadata": {},
   "outputs": [
    {
     "name": "stdout",
     "output_type": "stream",
     "text": [
      "The dot product of-\n",
      "Array is: 102\n"
     ]
    }
   ],
   "source": [
    "list2=[5,6,3,8]\n",
    "array2=np.array(list2)\n",
    "print(\"The dot product of-\")\n",
    "\n",
    "print(\"Array is:\",np.dot(array1,array2))\n",
    "\n"
   ]
  },
  {
   "cell_type": "code",
   "execution_count": 19,
   "id": "18d103a0",
   "metadata": {},
   "outputs": [
    {
     "name": "stdout",
     "output_type": "stream",
     "text": [
      "102\n"
     ]
    }
   ],
   "source": [
    "# Modern syntax to find the dot product\n",
    "sum = array1 @ array2\n",
    "print(sum)"
   ]
  },
  {
   "cell_type": "code",
   "execution_count": 20,
   "id": "3c185664",
   "metadata": {},
   "outputs": [
    {
     "name": "stdout",
     "output_type": "stream",
     "text": [
      "[[1 1]\n",
      " [5 5]\n",
      " [4 4]\n",
      " [6 6]\n",
      " [7 7]\n",
      " [5 5]]\n"
     ]
    }
   ],
   "source": [
    "# Working with mathematical function defined in numpy\n",
    "# Printing the Traverse of the array matrix\n",
    "print(arr.T)"
   ]
  },
  {
   "cell_type": "code",
   "execution_count": 21,
   "id": "282bd892",
   "metadata": {},
   "outputs": [],
   "source": [
    "m_array=np.array([[2,3,6],[5,8,6],[2,9,5]])"
   ]
  },
  {
   "cell_type": "code",
   "execution_count": 22,
   "id": "fe71f087",
   "metadata": {},
   "outputs": [
    {
     "name": "stdout",
     "output_type": "stream",
     "text": [
      "[[2 3 6]\n",
      " [5 8 6]\n",
      " [2 9 5]] \n",
      "The dimension is 2 \n",
      "The shape is (3, 3) \n",
      "The size is 9 \n",
      "The itemsize is 4\n"
     ]
    }
   ],
   "source": [
    "print(m_array,\"\\nThe dimension is\",m_array.ndim,\"\\nThe shape is\",m_array.shape,\"\\nThe size is\",m_array.size,\"\\nThe itemsize is\",m_array.itemsize)"
   ]
  },
  {
   "cell_type": "code",
   "execution_count": 23,
   "id": "7309f785",
   "metadata": {},
   "outputs": [
    {
     "name": "stdout",
     "output_type": "stream",
     "text": [
      "[[2 5 2]\n",
      " [3 8 9]\n",
      " [6 6 5]]\n"
     ]
    }
   ],
   "source": [
    "# the transpose of the array matrix is\n",
    "print(m_array.T)"
   ]
  },
  {
   "cell_type": "code",
   "execution_count": 35,
   "id": "9409fb8d",
   "metadata": {},
   "outputs": [
    {
     "name": "stdout",
     "output_type": "stream",
     "text": [
      "[[False  True  True  True  True  True]\n",
      " [False  True  True  True  True  True]]\n",
      "[5 4 6 7 5 5 4 6 7 5]\n",
      "[5 4 6 7 5 5 4 6 7 5]\n"
     ]
    }
   ],
   "source": [
    "bool_arr=arr>2\n",
    "print(bool_arr)\n",
    "print(arr[bool_arr])\n",
    "print(arr[arr>2])"
   ]
  },
  {
   "cell_type": "code",
   "execution_count": 46,
   "id": "5ada65db",
   "metadata": {},
   "outputs": [
    {
     "data": {
      "text/plain": [
       "array([[-1,  5,  4,  6,  7,  5],\n",
       "       [-1,  5,  4,  6,  7,  5]])"
      ]
     },
     "execution_count": 46,
     "metadata": {},
     "output_type": "execute_result"
    }
   ],
   "source": [
    "np.where(arr>2,arr,-1)"
   ]
  },
  {
   "cell_type": "code",
   "execution_count": 63,
   "id": "b74c0e67",
   "metadata": {},
   "outputs": [
    {
     "name": "stdout",
     "output_type": "stream",
     "text": [
      "[65 86 17]\n"
     ]
    }
   ],
   "source": [
    "arr3=np.array([34,65,14,86,31,17,56])\n",
    "list3=[1,3,5]\n",
    "print(arr3[list3])"
   ]
  },
  {
   "cell_type": "code",
   "execution_count": 58,
   "id": "942618aa",
   "metadata": {},
   "outputs": [
    {
     "name": "stdout",
     "output_type": "stream",
     "text": [
      "[0 2 3 6]\n",
      "[34 14 86 56]\n"
     ]
    }
   ],
   "source": [
    "even=np.argwhere(arr3%2==0).flatten()\n",
    "print(even)\n",
    "print(arr3[even])"
   ]
  },
  {
   "cell_type": "code",
   "execution_count": 70,
   "id": "0ef120a6",
   "metadata": {},
   "outputs": [
    {
     "data": {
      "text/plain": [
       "array([[1, 2],\n",
       "       [3, 4],\n",
       "       [5, 6]])"
      ]
     },
     "execution_count": 70,
     "metadata": {},
     "output_type": "execute_result"
    }
   ],
   "source": [
    "# Reshaping the dimention of array matrix\n",
    "b=np.arange(1,7)\n",
    "b.reshape((3,2))"
   ]
  },
  {
   "cell_type": "code",
   "execution_count": null,
   "id": "7829caee",
   "metadata": {},
   "outputs": [],
   "source": []
  }
 ],
 "metadata": {
  "kernelspec": {
   "display_name": "Python 3 (ipykernel)",
   "language": "python",
   "name": "python3"
  },
  "language_info": {
   "codemirror_mode": {
    "name": "ipython",
    "version": 3
   },
   "file_extension": ".py",
   "mimetype": "text/x-python",
   "name": "python",
   "nbconvert_exporter": "python",
   "pygments_lexer": "ipython3",
   "version": "3.11.3"
  }
 },
 "nbformat": 4,
 "nbformat_minor": 5
}
