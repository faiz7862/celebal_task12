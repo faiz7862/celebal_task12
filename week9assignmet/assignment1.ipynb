{
 "cells": [
  {
   "cell_type": "code",
   "execution_count": 1,
   "metadata": {
    "ExecuteTime": {
     "end_time": "2024-07-21T03:38:22.581006Z",
     "start_time": "2024-07-21T03:38:16.576684Z"
    }
   },
   "outputs": [],
   "source": [
    "import numpy as np\n",
    "import pandas as pd\n",
    "from sklearn.preprocessing import StandardScaler, OneHotEncoder\n",
    "from sklearn.impute import SimpleImputer\n",
    "from sklearn.ensemble import IsolationForest\n",
    "from sklearn.model_selection import train_test_split\n",
    "from sklearn.metrics import classification_report\n"
   ]
  },
  {
   "cell_type": "code",
   "execution_count": 2,
   "metadata": {
    "ExecuteTime": {
     "end_time": "2024-07-21T03:38:26.804206Z",
     "start_time": "2024-07-21T03:38:26.783257Z"
    }
   },
   "outputs": [],
   "source": [
    "# Generate synthetic data\n",
    "np.random.seed(42)\n",
    "data_normal = np.random.normal(0, 1, (1000, 2))  # Normal data\n",
    "data_anomalous = np.random.normal(0, 5, (50, 2))  # Anomalous data\n",
    "data = np.vstack([data_normal, data_anomalous])\n",
    "\n",
    "# Create a DataFrame\n",
    "df = pd.DataFrame(data, columns=['feature1', 'feature2'])\n",
    "df['label'] = [0] * 1000 + [1] * 50  # 0: Normal, 1: Anomalous\n"
   ]
  },
  {
   "cell_type": "code",
   "execution_count": 3,
   "metadata": {
    "ExecuteTime": {
     "end_time": "2024-07-21T03:38:28.767199Z",
     "start_time": "2024-07-21T03:38:28.746095Z"
    }
   },
   "outputs": [],
   "source": [
    "# Separate features and labels\n",
    "X = df.drop(columns='label')\n",
    "y = df['label']\n",
    "\n",
    "# Imputation (if needed)\n",
    "imputer = SimpleImputer(strategy='mean')\n",
    "X_imputed = imputer.fit_transform(X)\n",
    "\n",
    "# Standardization\n",
    "scaler = StandardScaler()\n",
    "X_scaled = scaler.fit_transform(X_imputed)\n"
   ]
  },
  {
   "cell_type": "code",
   "execution_count": 4,
   "metadata": {
    "ExecuteTime": {
     "end_time": "2024-07-21T03:38:29.770725Z",
     "start_time": "2024-07-21T03:38:29.580329Z"
    }
   },
   "outputs": [
    {
     "name": "stdout",
     "output_type": "stream",
     "text": [
      "Training Set Evaluation:\n",
      "              precision    recall  f1-score   support\n",
      "\n",
      "           0       0.99      0.98      0.99       803\n",
      "           1       0.67      0.76      0.71        37\n",
      "\n",
      "    accuracy                           0.97       840\n",
      "   macro avg       0.83      0.87      0.85       840\n",
      "weighted avg       0.97      0.97      0.97       840\n",
      "\n",
      "Test Set Evaluation:\n",
      "              precision    recall  f1-score   support\n",
      "\n",
      "           0       0.99      1.00      0.99       197\n",
      "           1       1.00      0.85      0.92        13\n",
      "\n",
      "    accuracy                           0.99       210\n",
      "   macro avg       0.99      0.92      0.96       210\n",
      "weighted avg       0.99      0.99      0.99       210\n"
     ]
    }
   ],
   "source": [
    "# Split the data into training and test sets\n",
    "X_train, X_test, y_train, y_test = train_test_split(X_scaled, y, test_size=0.2, random_state=42)\n",
    "\n",
    "# Train Isolation Forest model\n",
    "model = IsolationForest(contamination=0.05, random_state=42)\n",
    "model.fit(X_train)\n",
    "\n",
    "# Predict anomalies\n",
    "y_pred_train = model.predict(X_train)\n",
    "y_pred_test = model.predict(X_test)\n",
    "\n",
    "# Convert predictions from {-1, 1} to {0, 1}\n",
    "y_pred_train = np.where(y_pred_train == -1, 1, 0)\n",
    "y_pred_test = np.where(y_pred_test == -1, 1, 0)\n",
    "\n",
    "# Evaluate the model\n",
    "print(\"Training Set Evaluation:\")\n",
    "print(classification_report(y_train, y_pred_train))\n",
    "\n",
    "print(\"Test Set Evaluation:\")\n",
    "print(classification_report(y_test, y_pred_test))\n"
   ]
  },
  {
   "cell_type": "code",
   "execution_count": null,
   "metadata": {},
   "outputs": [],
   "source": []
  }
 ],
 "metadata": {
  "kernelspec": {
   "display_name": "Python 3",
   "language": "python",
   "name": "python3"
  },
  "language_info": {
   "codemirror_mode": {
    "name": "ipython",
    "version": 3
   },
   "file_extension": ".py",
   "mimetype": "text/x-python",
   "name": "python",
   "nbconvert_exporter": "python",
   "pygments_lexer": "ipython3",
   "version": "3.11.3"
  }
 },
 "nbformat": 4,
 "nbformat_minor": 2
}
