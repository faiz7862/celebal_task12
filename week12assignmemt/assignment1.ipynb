{
 "cells": [
  {
   "cell_type": "code",
   "execution_count": 1,
   "metadata": {},
   "outputs": [],
   "source": [
    "from azure.ai.textanalytics import TextAnalyticsClient\n",
    "from azure.core.credentials import AzureKeyCredential\n",
    "\n",
    "endpoint = \"https://<your-text-analytics-endpoint>.cognitiveservices.azure.com/\"\n",
    "key = \"<your-text-analytics-key>\"\n",
    "\n",
    "client = TextAnalyticsClient(endpoint=endpoint, credential=AzureKeyCredential(key))\n"
   ]
  },
  {
   "cell_type": "code",
   "execution_count": null,
   "metadata": {},
   "outputs": [],
   "source": [
    "def analyze_sentiment(client, reviews):\n",
    "    \"\"\"\n",
    "    Analyze the sentiment of a list of movie reviews using Azure Text Analytics API.\n",
    "\n",
    "    Args:\n",
    "        client: TextAnalyticsClient object to interact with the Azure API.\n",
    "        reviews: List of strings containing movie reviews.\n",
    "\n",
    "    Returns:\n",
    "        None\n",
    "    \"\"\"\n",
    "    try:\n",
    "        # Call the API to analyze the sentiment\n",
    "        response = client.analyze_sentiment(documents=reviews)\n",
    "\n",
    "        # Process the response\n",
    "        for idx, review in enumerate(response):\n",
    "            print(f\"Review {idx + 1}: {reviews[idx]}\")\n",
    "            print(f\"Sentiment: {review.sentiment}\")\n",
    "            print(f\"Confidence Scores: Positive={review.confidence_scores.positive}; \"\n",
    "                  f\"Neutral={review.confidence_scores.neutral}; \"\n",
    "                  f\"Negative={review.confidence_scores.negative}\\n\")\n",
    "    except Exception as err:\n",
    "        print(f\"Encountered an error: {err}\")\n",
    "\n"
   ]
  },
  {
   "cell_type": "code",
   "execution_count": null,
   "metadata": {},
   "outputs": [],
   "source": [
    "if __name__ == \"__main__\":\n",
    "    # Example movie reviews\n",
    "    reviews = [\n",
    "        \"The movie was fantastic! The acting was superb and the story was thrilling.\",\n",
    "        \"I did not enjoy the film. It was too slow and the plot was predictable.\",\n",
    "        \"It was an average movie, not bad but not great either.\",\n",
    "        \"The special effects were breathtaking, but the plot lacked depth.\",\n",
    "        \"I loved the characters and the plot twists kept me on the edge of my seat.\",\n",
    "    ]\n",
    "\n",
    "    # Analyze the sentiment of the provided reviews\n",
    "    analyze_sentiment(client, reviews)\n"
   ]
  }
 ],
 "metadata": {
  "kernelspec": {
   "display_name": "Python 3",
   "language": "python",
   "name": "python3"
  },
  "language_info": {
   "codemirror_mode": {
    "name": "ipython",
    "version": 3
   },
   "file_extension": ".py",
   "mimetype": "text/x-python",
   "name": "python",
   "nbconvert_exporter": "python",
   "pygments_lexer": "ipython3",
   "version": "3.11.3"
  }
 },
 "nbformat": 4,
 "nbformat_minor": 2
}
